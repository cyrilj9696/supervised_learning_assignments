{
 "nbformat": 4,
 "nbformat_minor": 2,
 "metadata": {
  "language_info": {
   "name": "python",
   "codemirror_mode": {
    "name": "ipython",
    "version": 3
   },
   "version": "3.7.4-final"
  },
  "orig_nbformat": 2,
  "file_extension": ".py",
  "mimetype": "text/x-python",
  "name": "python",
  "npconvert_exporter": "python",
  "pygments_lexer": "ipython3",
  "version": 3,
  "kernelspec": {
   "name": "python37464bitca0a6b7e96d549838a58bc5e9a4cdff6",
   "display_name": "Python 3.7.4 64-bit"
  }
 },
 "cells": [
  {
   "cell_type": "markdown",
   "execution_count": null,
   "metadata": {},
   "outputs": [],
   "source": [
    "# Python Assignments"
   ]
  },
  {
   "cell_type": "code",
   "execution_count": 1,
   "metadata": {},
   "outputs": [],
   "source": [
    "# Libraries\n",
    "import re"
   ]
  },
  {
   "cell_type": "markdown",
   "execution_count": null,
   "metadata": {},
   "outputs": [],
   "source": [
    "## Data:  \n",
    "\" I am very keen in building up my career in Data Science, but not sure from where to start. If I search the web it throws me thousands of articles, few are relevant others make me confused, again I come around to the same page. Supervised has provided me a good platform to remove all such qualms which were wrangling in my mind\""
   ]
  },
  {
   "cell_type": "markdown",
   "execution_count": null,
   "metadata": {},
   "outputs": [],
   "source": [
    "### 1) Consider the above text as a string, figure out the average length of the string.\n",
    "\n"
   ]
  },
  {
   "cell_type": "code",
   "execution_count": 2,
   "metadata": {},
   "outputs": [
    {
     "name": "stdout",
     "output_type": "stream",
     "text": "4.2063492063492065\n"
    }
   ],
   "source": [
    "data = \" I am very keen in building up my career in Data Science, but not sure from where to start. If I search the web it throws me thousands of articles, few are relevant others make me confused, again I come around to the same page. Supervised has provided me a good platform to remove all such qualms which were wrangling in my mind\"\n",
    "def average(data):\n",
    "    return sum(len(word) for word in data.split()) / len(data.split())\n",
    "\n",
    "print(average(data))"
   ]
  },
  {
   "cell_type": "markdown",
   "execution_count": null,
   "metadata": {},
   "outputs": [],
   "source": [
    "### 2) Lower the text in the string."
   ]
  },
  {
   "cell_type": "code",
   "execution_count": 3,
   "metadata": {},
   "outputs": [
    {
     "name": "stdout",
     "output_type": "stream",
     "text": "i am very keen in building up my career in data science, but not sure from where to start. if i search the web it throws me thousands of articles, few are relevant others make me confused, again i come around to the same page. supervised has provided me a good platform to remove all such qualms which were wrangling in my mind\n"
    }
   ],
   "source": [
    "print(data.lower())"
   ]
  },
  {
   "cell_type": "markdown",
   "execution_count": null,
   "metadata": {},
   "outputs": [],
   "source": [
    "### 3) Try to get the clean text removing the punctuation from the string."
   ]
  },
  {
   "cell_type": "code",
   "execution_count": 4,
   "metadata": {},
   "outputs": [
    {
     "name": "stdout",
     "output_type": "stream",
     "text": "1. Normal Approach\n******************************\n I am very keen in building up my career in Data Science but not sure from where to start If I search the web it throws me thousands of articles few are relevant others make me confused again I come around to the same page Supervised has provided me a good platform to remove all such qualms which were wrangling in my mind\n\n2. Regex Approach\n******************************\n I am very keen in building up my career in Data Science but not sure from where to start If I search the web it throws me thousands of articles few are relevant others make me confused again I come around to the same page Supervised has provided me a good platform to remove all such qualms which were wrangling in my mind\n"
    }
   ],
   "source": [
    "print(\"1. Normal Approach\")\n",
    "print(\"*\" * 30)\n",
    "print(data.replace(\",\", \"\").replace(\".\", \"\"))\n",
    "\n",
    "print(\"\\n2. Regex Approach\")\n",
    "print(\"*\" * 30)\n",
    "print(re.sub(\"\\W+\", \" \", data))\n"
   ]
  },
  {
   "cell_type": "markdown",
   "execution_count": null,
   "metadata": {},
   "outputs": [],
   "source": [
    "### 4) Extract word \"Data Science\" from the string."
   ]
  },
  {
   "cell_type": "code",
   "execution_count": 5,
   "metadata": {},
   "outputs": [
    {
     "name": "stdout",
     "output_type": "stream",
     "text": "1. Normal Approach\n******************************\nData Science\n\n2. Regex Approach\n******************************\n['Data Science']\n"
    }
   ],
   "source": [
    "print(\"1. Normal Approach\")\n",
    "print(\"*\" * 30)\n",
    "start = data.find(\"Data Science\")\n",
    "end = start + len(\"Data Science\")\n",
    "print(data[start : end])\n",
    "\n",
    "print(\"\\n2. Regex Approach\")\n",
    "print(\"*\" * 30)\n",
    "extracted_data = re.findall(r\"Data Science\",data)\n",
    "print(extracted_data)"
   ]
  },
  {
   "cell_type": "markdown",
   "execution_count": null,
   "metadata": {},
   "outputs": [],
   "source": [
    "### 5) Find the frequency of words used in the string."
   ]
  },
  {
   "cell_type": "code",
   "execution_count": 6,
   "metadata": {},
   "outputs": [
    {
     "name": "stdout",
     "output_type": "stream",
     "text": "up : 1\nbut : 1\nare : 1\nof : 1\nplatform : 1\nwere : 1\nrelevant : 1\nothers : 1\nsame : 1\nsuch : 1\nScience, : 1\nin : 3\nwhere : 1\nI : 3\ncome : 1\nsure : 1\npage. : 1\nprovided : 1\nwrangling : 1\nvery : 1\nmind : 1\nstart. : 1\nfew : 1\na : 1\nmy : 2\nwhich : 1\ncareer : 1\nbuilding : 1\nit : 1\nthe : 2\nto : 3\nkeen : 1\narticles, : 1\nall : 1\nweb : 1\nsearch : 1\nthousands : 1\nme : 3\nam : 1\nnot : 1\nqualms : 1\nSupervised : 1\ngood : 1\nIf : 1\nconfused, : 1\nremove : 1\nmake : 1\nthrows : 1\nagain : 1\nData : 1\naround : 1\nhas : 1\nfrom : 1\n"
    }
   ],
   "source": [
    "duplicate_data = []\n",
    "key_words = data.split()\n",
    "for word in set(key_words):\n",
    "    word_count = key_words.count(word)\n",
    "    print(f\"{word} : {word_count}\")\n",
    "    if word_count > 1:\n",
    "        duplicate_data.append({word : word_count})"
   ]
  },
  {
   "cell_type": "markdown",
   "execution_count": null,
   "metadata": {},
   "outputs": [],
   "source": [
    "### 6) Find all the words which occurred more than once in the string."
   ]
  },
  {
   "cell_type": "code",
   "execution_count": 7,
   "metadata": {},
   "outputs": [
    {
     "name": "stdout",
     "output_type": "stream",
     "text": "[{'in': 3}, {'I': 3}, {'my': 2}, {'the': 2}, {'to': 3}, {'me': 3}]\n"
    }
   ],
   "source": [
    "print(duplicate_data)"
   ]
  },
  {
   "cell_type": "markdown",
   "execution_count": null,
   "metadata": {},
   "outputs": [],
   "source": [
    "### 7) Can you change the word \"Supervised\" to \"Unsupervised\" in the string\n",
    "\n"
   ]
  },
  {
   "cell_type": "code",
   "execution_count": 8,
   "metadata": {},
   "outputs": [
    {
     "name": "stdout",
     "output_type": "stream",
     "text": "I am very keen in building up my career in Data Science, but not sure from where to start. If I search the web it throws me thousands of articles, few are relevant others make me confused, again I come around to the same page. Unsupervised has provided me a good platform to remove all such qualms which were wrangling in my mind\n"
    }
   ],
   "source": [
    "print(data.replace('Supervised', 'Unsupervised'))"
   ]
  },
  {
   "cell_type": "markdown",
   "execution_count": null,
   "metadata": {},
   "outputs": [],
   "source": [
    "### 8) Splitting of the string with a dot operator(.)\n",
    "\n"
   ]
  },
  {
   "cell_type": "code",
   "execution_count": 9,
   "metadata": {},
   "outputs": [
    {
     "data": {
      "text/plain": "[' I am very keen in building up my career in Data Science, but not sure from where to start',\n ' If I search the web it throws me thousands of articles, few are relevant others make me confused, again I come around to the same page',\n ' Supervised has provided me a good platform to remove all such qualms which were wrangling in my mind']"
     },
     "execution_count": 9,
     "metadata": {},
     "output_type": "execute_result"
    }
   ],
   "source": [
    "data.split('.')"
   ]
  },
  {
   "cell_type": "markdown",
   "execution_count": null,
   "metadata": {},
   "outputs": [],
   "source": [
    "### 9) Find the words from the string which ends with \"e\"\n",
    "\n",
    " "
   ]
  },
  {
   "cell_type": "code",
   "execution_count": 10,
   "metadata": {},
   "outputs": [
    {
     "name": "stdout",
     "output_type": "stream",
     "text": "['Science', 'sure', 'where', 'the', 'me', 'are', 'make', 'me', 'come', 'the', 'same', 'page', 'me', 'remove', 'were']\n"
    }
   ],
   "source": [
    "data_processed = re.sub(\"\\W+\", \" \", data)\n",
    "print([word for word in data_processed.split() if word.endswith('e')])"
   ]
  },
  {
   "cell_type": "markdown",
   "execution_count": null,
   "metadata": {},
   "outputs": [],
   "source": [
    "### 10) Figure out number of a's used in the string.\n",
    "\n"
   ]
  },
  {
   "cell_type": "code",
   "execution_count": 11,
   "metadata": {},
   "outputs": [
    {
     "name": "stdout",
     "output_type": "stream",
     "text": "The number of A's 22\n"
    }
   ],
   "source": [
    "print(f\"The number of A's {data.count('a')}\")"
   ]
  },
  {
   "cell_type": "markdown",
   "execution_count": null,
   "metadata": {},
   "outputs": [],
   "source": [
    "# Questions on Dictionary"
   ]
  },
  {
   "cell_type": "markdown",
   "execution_count": null,
   "metadata": {},
   "outputs": [],
   "source": [
    "## Data:\n",
    "In the weekend , I purchased 250g of apple, 500g of sugar, 2.5 kg of rice, 2.5 litres of milk and finally 1 dozen of egg.\n"
   ]
  },
  {
   "cell_type": "markdown",
   "execution_count": null,
   "metadata": {},
   "outputs": [],
   "source": [
    "### 1) Can you help me frame the above purchase in the form of dictionary with commodities as keys to it.\n",
    "\n"
   ]
  },
  {
   "cell_type": "code",
   "execution_count": 12,
   "metadata": {},
   "outputs": [
    {
     "name": "stdout",
     "output_type": "stream",
     "text": "{'apple': '250g', 'sugar': '500g', 'rice': '2.5kg', 'milk': '2.5litres', 'egg': '1dozen'}\n"
    }
   ],
   "source": [
    "weekend_purchase = {\"apple\": \"250g\",\n",
    "                    \"sugar\": \"500g\",\n",
    "                    \"rice\": \"2.5kg\",\n",
    "                    \"milk\": \"2.5litres\",\n",
    "                    \"egg\": \"1dozen\"}\n",
    "print(weekend_purchase)"
   ]
  },
  {
   "cell_type": "markdown",
   "execution_count": null,
   "metadata": {},
   "outputs": [],
   "source": [
    "### 2) I forgot to mention another item, 1kg of atta packet. Can you also add it ?\n",
    "\n"
   ]
  },
  {
   "cell_type": "code",
   "execution_count": 13,
   "metadata": {},
   "outputs": [
    {
     "name": "stdout",
     "output_type": "stream",
     "text": "{'apple': '250g', 'sugar': '500g', 'rice': '2.5kg', 'milk': '2.5litres', 'egg': '1dozen', 'atta': '1kg'}\n"
    }
   ],
   "source": [
    "weekend_purchase[\"atta\"] = \"1kg\"\n",
    "print(weekend_purchase)"
   ]
  },
  {
   "cell_type": "markdown",
   "execution_count": null,
   "metadata": {},
   "outputs": [],
   "source": [
    "### 3) Instead of 2kg of rice, I bought only 1kg of rice. Can you change the corresponding value ?\n",
    "\n"
   ]
  },
  {
   "cell_type": "code",
   "execution_count": 14,
   "metadata": {},
   "outputs": [
    {
     "name": "stdout",
     "output_type": "stream",
     "text": "{'apple': '250g', 'sugar': '500g', 'rice': '1kg', 'milk': '2.5litres', 'egg': '1dozen', 'atta': '1kg'}\n"
    }
   ],
   "source": [
    "weekend_purchase[\"rice\"] = \"1kg\"\n",
    "print(weekend_purchase)"
   ]
  },
  {
   "cell_type": "markdown",
   "execution_count": null,
   "metadata": {},
   "outputs": [],
   "source": [
    "### 4) Can you list out all these items using a loop.\n",
    "\n"
   ]
  },
  {
   "cell_type": "code",
   "execution_count": 15,
   "metadata": {},
   "outputs": [
    {
     "name": "stdout",
     "output_type": "stream",
     "text": "apple 250g\nsugar 500g\nrice 1kg\nmilk 2.5litres\negg 1dozen\natta 1kg\n"
    }
   ],
   "source": [
    "for key, val in weekend_purchase.items():\n",
    "    print(key, val)"
   ]
  },
  {
   "cell_type": "markdown",
   "execution_count": null,
   "metadata": {},
   "outputs": [],
   "source": [
    "## Data:\n",
    "\n",
    "However, the cost of 1 kg apple is Rs.220, 1 kg of sugar is Rs.43, 1 Kg of rice is Rs. 45, 1 litre of milk is Rs.30 and 1 dozen of egg is Rs. 60.\n"
   ]
  },
  {
   "cell_type": "markdown",
   "execution_count": null,
   "metadata": {},
   "outputs": [],
   "source": [
    "### 1) Create another dictionary for pricing.\n",
    "\n"
   ]
  },
  {
   "cell_type": "code",
   "execution_count": 16,
   "metadata": {},
   "outputs": [
    {
     "name": "stdout",
     "output_type": "stream",
     "text": "Commodity price in Rupees /kg/litre => \n\n {'apple': 220, 'sugar': 43, 'rice': 45, 'milk': 30, 'egg': 60}\n"
    }
   ],
   "source": [
    "commodity_price = {\"apple\": 220, \"sugar\": 43, \"rice\": 45, \"milk\": 30, \"egg\": 60}\n",
    "print(f\"Commodity price in Rupees /kg/litre => \\n\\n {commodity_price}\")\n"
   ]
  },
  {
   "cell_type": "markdown",
   "execution_count": null,
   "metadata": {},
   "outputs": [],
   "source": [
    "### 2) Thereby, prepare a bill for me of the overall cost of the total commodities purchased by using two dictionaries ! "
   ]
  },
  {
   "cell_type": "code",
   "execution_count": 17,
   "metadata": {},
   "outputs": [
    {
     "name": "stdout",
     "output_type": "stream",
     "text": "The bill for each items is : {'apple': 55.0, 'sugar': 21.5, 'rice': 45.0, 'milk': 75.0, 'egg': 60.0}\nThe total bill : 256.5\n"
    }
   ],
   "source": [
    "bill = {}\n",
    "conventions = ('kg', 'g', 'litres', 'dozen')\n",
    "for item, quantity in weekend_purchase.items():\n",
    "    for unit_item, price in commodity_price.items():\n",
    "        if item == unit_item:\n",
    "            if 'g' in quantity:\n",
    "                if 'kg' in quantity:\n",
    "                    bill.update({item: price * float(quantity.replace('kg', ''))})\n",
    "                else:\n",
    "                    bill.update({item: price * float(quantity.replace('g', '')) / 1000})\n",
    "            elif 'dozen' in quantity:\n",
    "                bill.update({item: price * float(quantity.replace('dozen', ''))})\n",
    "            elif'litres' in quantity:\n",
    "                bill.update({item: price * float(quantity.replace('litres', ''))})\n",
    "\n",
    "print(f\"The bill for each items is : {bill}\")\n",
    "print(f\"The total bill : {sum(bill.values())}\")"
   ]
  },
  {
   "cell_type": "markdown",
   "execution_count": null,
   "metadata": {},
   "outputs": [],
   "source": [
    "## Questions on List"
   ]
  },
  {
   "cell_type": "markdown",
   "execution_count": null,
   "metadata": {},
   "outputs": [],
   "source": [
    "## Data:\n",
    "ai_companies = \\[\"Amazon\", \"Facebook\", \"HiSilicon\", \"Google\", \"Apple\", \"Microsoft\", \"SenseTime\"\\]\n"
   ]
  },
  {
   "cell_type": "markdown",
   "execution_count": null,
   "metadata": {},
   "outputs": [],
   "source": [
    "### 1) Sort the list in ascending order\n",
    "\n"
   ]
  },
  {
   "cell_type": "code",
   "execution_count": 18,
   "metadata": {},
   "outputs": [
    {
     "name": "stdout",
     "output_type": "stream",
     "text": "['Amazon', 'Apple', 'Facebook', 'Google', 'HiSilicon', 'Microsoft', 'SenseTime']\n"
    }
   ],
   "source": [
    "ai_companies = [\"Amazon\", \"Facebook\", \"HiSilicon\", \"Google\", \"Apple\", \"Microsoft\", \"SenseTime\"]\n",
    "# <list>.sort(key = len/int, reverse = True)\n",
    "ai_companies.sort()\n",
    "print(ai_companies)"
   ]
  },
  {
   "cell_type": "markdown",
   "execution_count": null,
   "metadata": {},
   "outputs": [],
   "source": [
    "### 2) Add multiple companies at once 'Nvidia', 'OpenAI' , 'Qualcomm' and 'Reliance' to the list\n",
    "\n"
   ]
  },
  {
   "cell_type": "code",
   "execution_count": 19,
   "metadata": {},
   "outputs": [
    {
     "name": "stdout",
     "output_type": "stream",
     "text": "['Amazon', 'Apple', 'Facebook', 'Google', 'HiSilicon', 'Microsoft', 'SenseTime', 'Nvidia', 'OpenAI', 'Qualcomm', 'Reliance']\n"
    }
   ],
   "source": [
    "ai_companies.extend(['Nvidia', 'OpenAI' , 'Qualcomm', 'Reliance'])\n",
    "print(ai_companies)"
   ]
  },
  {
   "cell_type": "markdown",
   "execution_count": null,
   "metadata": {},
   "outputs": [],
   "source": [
    "### 3) Lower the list using List comprehension\n",
    "\n"
   ]
  },
  {
   "cell_type": "code",
   "execution_count": 20,
   "metadata": {},
   "outputs": [
    {
     "name": "stdout",
     "output_type": "stream",
     "text": "['amazon', 'apple', 'facebook', 'google', 'hisilicon', 'microsoft', 'sensetime', 'nvidia', 'openai', 'qualcomm', 'reliance']\n"
    }
   ],
   "source": [
    "print([company.lower() for company in ai_companies])"
   ]
  },
  {
   "cell_type": "markdown",
   "execution_count": null,
   "metadata": {},
   "outputs": [],
   "source": [
    "### 4) Elimiate 'Reliance' from the list\n",
    "\n"
   ]
  },
  {
   "cell_type": "code",
   "execution_count": 21,
   "metadata": {},
   "outputs": [
    {
     "name": "stdout",
     "output_type": "stream",
     "text": "['Amazon', 'Apple', 'Facebook', 'Google', 'HiSilicon', 'Microsoft', 'SenseTime', 'Nvidia', 'OpenAI', 'Qualcomm']\n"
    }
   ],
   "source": [
    "ai_companies.remove('Reliance')\n",
    "print(ai_companies)"
   ]
  },
  {
   "cell_type": "markdown",
   "execution_count": null,
   "metadata": {},
   "outputs": [],
   "source": [
    "### 5) Extract 'Facebook', 'Google' and 'Microsoft' using a single command\n",
    "\n"
   ]
  },
  {
   "cell_type": "code",
   "execution_count": 22,
   "metadata": {},
   "outputs": [
    {
     "name": "stdout",
     "output_type": "stream",
     "text": "['Facebook', 'Google', 'Microsoft']\n"
    }
   ],
   "source": [
    "ai_companies = [\"Amazon\", \"Facebook\", \"HiSilicon\", \"Google\", \"Apple\", \"Microsoft\", \"SenseTime\"]\n",
    "print(ai_companies[1::2])"
   ]
  },
  {
   "cell_type": "markdown",
   "execution_count": null,
   "metadata": {},
   "outputs": [],
   "source": [
    "## Questions on Tuple"
   ]
  },
  {
   "cell_type": "markdown",
   "execution_count": null,
   "metadata": {},
   "outputs": [],
   "source": [
    "### 1) Consider the above standard price problem statement and place the prices in the form of the tuple."
   ]
  },
  {
   "cell_type": "code",
   "execution_count": 23,
   "metadata": {},
   "outputs": [
    {
     "name": "stdout",
     "output_type": "stream",
     "text": "(('apple', 220), ('sugar', 43), ('rice', 45), ('milk', 30), ('egg', 60))\n"
    }
   ],
   "source": [
    "commodity_price_tup = ((\"apple\", 220), (\"sugar\", 43), (\"rice\", 45), (\"milk\", 30), (\"egg\", 60))\n",
    "print(commodity_price_tup)"
   ]
  },
  {
   "cell_type": "markdown",
   "execution_count": null,
   "metadata": {},
   "outputs": [],
   "source": [
    "### 2) Find out the min and max price among them."
   ]
  },
  {
   "cell_type": "code",
   "execution_count": 24,
   "metadata": {},
   "outputs": [
    {
     "name": "stdout",
     "output_type": "stream",
     "text": "The item with maximum price is ('apple', 220)\nThe item with minimum price is ('milk', 30)\n"
    }
   ],
   "source": [
    "print(f\"The item with maximum price is {max(commodity_price_tup, key=lambda item:item[1])}\")\n",
    "print(f\"The item with minimum price is {min(commodity_price_tup, key=lambda item:item[1])}\")"
   ]
  },
  {
   "cell_type": "markdown",
   "execution_count": null,
   "metadata": {},
   "outputs": [],
   "source": [
    "### 3) Also, convert the above \"AI_companies\" list to a tuple."
   ]
  },
  {
   "cell_type": "code",
   "execution_count": 25,
   "metadata": {},
   "outputs": [
    {
     "name": "stdout",
     "output_type": "stream",
     "text": "('Amazon', 'Facebook', 'HiSilicon', 'Google', 'Apple', 'Microsoft', 'SenseTime')\n"
    }
   ],
   "source": [
    "ai_companies = [\"Amazon\", \"Facebook\", \"HiSilicon\", \"Google\", \"Apple\", \"Microsoft\", \"SenseTime\"]\n",
    "ai_companies_tup = tuple(ai_companies)\n",
    "print(ai_companies_tup)"
   ]
  },
  {
   "cell_type": "markdown",
   "execution_count": null,
   "metadata": {},
   "outputs": [],
   "source": [
    "### 4) Combine two above tuples to a single tuple."
   ]
  },
  {
   "cell_type": "code",
   "execution_count": 26,
   "metadata": {},
   "outputs": [
    {
     "name": "stdout",
     "output_type": "stream",
     "text": "(('apple', 220), ('sugar', 43), ('rice', 45), ('milk', 30), ('egg', 60), 'Amazon', 'Facebook', 'HiSilicon', 'Google', 'Apple', 'Microsoft', 'SenseTime')\n"
    }
   ],
   "source": [
    "combined_tuple = commodity_price_tup + ai_companies_tup\n",
    "print(combined_tuple)"
   ]
  },
  {
   "cell_type": "markdown",
   "execution_count": null,
   "metadata": {},
   "outputs": [],
   "source": [
    "### 5) Compare the length of two tuples."
   ]
  },
  {
   "cell_type": "code",
   "execution_count": 27,
   "metadata": {},
   "outputs": [
    {
     "name": "stdout",
     "output_type": "stream",
     "text": "The length of commodity price tuple is : 5\nThe length of AI companies is : 7\n"
    }
   ],
   "source": [
    "print(f\"The length of commodity price tuple is : {len(commodity_price_tup)}\")\n",
    "print(f\"The length of AI companies is : {len(ai_companies_tup)}\")"
   ]
  }
 ]
}