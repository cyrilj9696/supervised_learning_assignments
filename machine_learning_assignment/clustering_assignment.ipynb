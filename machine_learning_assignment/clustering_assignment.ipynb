{
 "cells": [
  {
   "cell_type": "markdown",
   "metadata": {},
   "source": [
    "## Clustering Assignment\n",
    "\n",
    "- Consider the wine dataset\n",
    "- Check if any nulls are present in the dataset\n",
    "- Perform Outlier Analysis for features and justify reasons if outliers are detected in features.\n",
    "- Perform Univariate Analysis of numerical features\n",
    "- Perform bi-variate analysis of 2-3 features\n",
    "- Normalize features using MinMaxScaler\n",
    "- In K-Means, plot the elbow method showing the minimum k to be choosen.\n",
    "- Also, use Silhouette analysis to prove minimum k needed to build clusters\n",
    "- On figuring out clusters , implement K-Means Clustering\n",
    "- Using Agglomerative Clustering, plot dendrograms and find out the number of clusters being formed\n",
    "- Plot the clusters based on Agglomerative Clustering"
   ]
  },
  {
   "cell_type": "code",
   "execution_count": null,
   "metadata": {},
   "outputs": [],
   "source": []
  }
 ],
 "metadata": {
  "language_info": {
   "codemirror_mode": {
    "name": "ipython",
    "version": 3
   },
   "file_extension": ".py",
   "mimetype": "text/x-python",
   "name": "python",
   "nbconvert_exporter": "python",
   "pygments_lexer": "ipython3",
   "version": 3
  },
  "orig_nbformat": 2
 },
 "nbformat": 4,
 "nbformat_minor": 2
}