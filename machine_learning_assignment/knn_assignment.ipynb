{
 "cells": [
  {
   "cell_type": "markdown",
   "metadata": {},
   "source": [
    "## KNN Assignment\n",
    "\n",
    "- Take the PoliceKillingUS Dataset.\n",
    "- Perform DataCleaning using SimpleImputer, LogisticRegression techniques\n",
    "- Get the following insights:-\n",
    "- Top 10 cities which have most number of fatal shootings\n",
    "- Age group of people killed along with reasons why were they killed and how were they killed\n",
    "- Visualize geographic locations using plotly.\n",
    "- Perform Label Encoding .\n",
    "- In KNN, plot the optimum K and use hamming distance for calculating the distance metric. If possible, try to implement hamming distance manually.\n",
    "- Fine-tune the parameters of KNN by using GridSearchCV."
   ]
  },
  {
   "cell_type": "code",
   "execution_count": null,
   "metadata": {},
   "outputs": [],
   "source": []
  }
 ],
 "metadata": {
  "language_info": {
   "codemirror_mode": {
    "name": "ipython",
    "version": 3
   },
   "file_extension": ".py",
   "mimetype": "text/x-python",
   "name": "python",
   "nbconvert_exporter": "python",
   "pygments_lexer": "ipython3",
   "version": 3
  },
  "orig_nbformat": 2
 },
 "nbformat": 4,
 "nbformat_minor": 2
}