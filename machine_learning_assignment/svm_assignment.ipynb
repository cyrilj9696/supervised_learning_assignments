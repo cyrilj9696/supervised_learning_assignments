{
 "cells": [
  {
   "cell_type": "markdown",
   "metadata": {},
   "source": [
    "## SVM Assignment\n",
    "\n",
    "- Take the ForestTypes Dataset which has train and test as seperate files.\n",
    "- Combine the train and test as single file.\n",
    "- Perform Univariate analysis of features and draw your inferences from it\n",
    "- Use statistical test , apart from heatmap to get the collinearity among features\n",
    "- Draw relationships among 3-4 features and get insights from it\n",
    "- Make use of PCA in reducing the dimensionality\n",
    "- Use Min-Max Scaling of features, and plot the graph showing the difference before scaling and after scaling.\n",
    "- Verify the effect of C parameter and gamma function. Plot the accuracy of train and test score\n",
    "- Fine-tune the parameter in SVM by using GridSearchCV.\n"
   ]
  },
  {
   "cell_type": "code",
   "execution_count": null,
   "metadata": {},
   "outputs": [],
   "source": []
  }
 ],
 "metadata": {
  "language_info": {
   "codemirror_mode": {
    "name": "ipython",
    "version": 3
   },
   "file_extension": ".py",
   "mimetype": "text/x-python",
   "name": "python",
   "nbconvert_exporter": "python",
   "pygments_lexer": "ipython3",
   "version": 3
  },
  "orig_nbformat": 2
 },
 "nbformat": 4,
 "nbformat_minor": 2
}