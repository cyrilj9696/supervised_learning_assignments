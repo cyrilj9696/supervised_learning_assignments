{
 "cells": [
  {
   "cell_type": "markdown",
   "metadata": {},
   "source": [
    "## Ensemble Learning Assignment\n",
    "\n",
    "- Consider the mushroom classification dataset\n",
    "- Extensive EDA needs to be done(Apart from simple univariate and Bi-variate)\n",
    "- Usage of One-Hot Encoding for converting into binary form\n",
    "- In Random Forest, plot the top 10 features.\n",
    "- In Ensemble Learning, Random Forest, Extra Trees, AdaBoost, Gradient Boosting and XGBoost find the precision score, recall score and - f1-score. Hyper-tune the parameters pertaining to the model."
   ]
  },
  {
   "cell_type": "code",
   "execution_count": null,
   "metadata": {},
   "outputs": [],
   "source": []
  }
 ],
 "metadata": {
  "language_info": {
   "codemirror_mode": {
    "name": "ipython",
    "version": 3
   },
   "file_extension": ".py",
   "mimetype": "text/x-python",
   "name": "python",
   "nbconvert_exporter": "python",
   "pygments_lexer": "ipython3",
   "version": 3
  },
  "orig_nbformat": 2
 },
 "nbformat": 4,
 "nbformat_minor": 2
}