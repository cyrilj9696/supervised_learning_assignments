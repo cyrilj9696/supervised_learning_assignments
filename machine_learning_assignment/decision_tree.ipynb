{
 "cells": [
  {
   "cell_type": "markdown",
   "metadata": {},
   "source": [
    "## Decision Tree Assignment\n",
    "\n",
    "- Consider the Credit Card Default Dataset\n",
    "- Perform Data Cleaning, if any needed.\n",
    "- Perform Uni-variate Analysis for categorical and continuous features\n",
    "- Perform Bi-variate Analysis for 2 categorical w.r.t target, categorical to categorical, categorical to continuous, continuous w.r.t - target and continuous to continuous.\n",
    "- Normalize the features (categorical and continuous)\n",
    "- Use K-Fold cross validation for train and test split in data\n",
    "- Plot confusion matrix, classification report\n",
    "- Check the accuracy score\n",
    "- Plot the decision tree graph using graphviz\n",
    "- Hyper-tune parameters such as sample_split_range, criterion, min_samples_leaf, min_samples_split and splitter."
   ]
  },
  {
   "cell_type": "code",
   "execution_count": null,
   "metadata": {},
   "outputs": [],
   "source": []
  }
 ],
 "metadata": {
  "language_info": {
   "codemirror_mode": {
    "name": "ipython",
    "version": 3
   },
   "file_extension": ".py",
   "mimetype": "text/x-python",
   "name": "python",
   "nbconvert_exporter": "python",
   "pygments_lexer": "ipython3",
   "version": 3
  },
  "orig_nbformat": 2
 },
 "nbformat": 4,
 "nbformat_minor": 2
}