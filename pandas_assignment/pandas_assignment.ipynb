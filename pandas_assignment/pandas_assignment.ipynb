{
 "nbformat": 4,
 "nbformat_minor": 2,
 "metadata": {
  "language_info": {
   "name": "python",
   "codemirror_mode": {
    "name": "ipython",
    "version": 3
   },
   "version": "3.7.4-final"
  },
  "orig_nbformat": 2,
  "file_extension": ".py",
  "mimetype": "text/x-python",
  "name": "python",
  "npconvert_exporter": "python",
  "pygments_lexer": "ipython3",
  "version": 3,
  "kernelspec": {
   "name": "python37464bitca0a6b7e96d549838a58bc5e9a4cdff6",
   "display_name": "Python 3.7.4 64-bit"
  }
 },
 "cells": [
  {
   "cell_type": "markdown",
   "execution_count": null,
   "metadata": {},
   "outputs": [],
   "source": [
    "# Pandas Assignments"
   ]
  },
  {
   "cell_type": "code",
   "execution_count": 1,
   "metadata": {},
   "outputs": [],
   "source": [
    "# Libraries\n",
    "import numpy as np\n",
    "import pandas as pd\n",
    "from datetime import datetime"
   ]
  },
  {
   "cell_type": "markdown",
   "execution_count": null,
   "metadata": {},
   "outputs": [],
   "source": [
    "### 1) Create a Datatime index containing all the weekdays days of year 2019 and assign a random number to each of them in a dataframe. \n",
    "\n"
   ]
  },
  {
   "cell_type": "code",
   "execution_count": 2,
   "metadata": {},
   "outputs": [
    {
     "data": {
      "text/html": "<div>\n<style scoped>\n    .dataframe tbody tr th:only-of-type {\n        vertical-align: middle;\n    }\n\n    .dataframe tbody tr th {\n        vertical-align: top;\n    }\n\n    .dataframe thead th {\n        text-align: right;\n    }\n</style>\n<table border=\"1\" class=\"dataframe\">\n  <thead>\n    <tr style=\"text-align: right;\">\n      <th></th>\n      <th>Random</th>\n    </tr>\n  </thead>\n  <tbody>\n    <tr>\n      <th>2020-03-02 22:27:40.045083</th>\n      <td>20</td>\n    </tr>\n    <tr>\n      <th>2020-03-03 22:27:40.045083</th>\n      <td>11</td>\n    </tr>\n    <tr>\n      <th>2020-03-04 22:27:40.045083</th>\n      <td>21</td>\n    </tr>\n    <tr>\n      <th>2020-03-05 22:27:40.045083</th>\n      <td>19</td>\n    </tr>\n    <tr>\n      <th>2020-03-06 22:27:40.045083</th>\n      <td>6</td>\n    </tr>\n    <tr>\n      <th>2020-03-09 22:27:40.045083</th>\n      <td>4</td>\n    </tr>\n    <tr>\n      <th>2020-03-10 22:27:40.045083</th>\n      <td>8</td>\n    </tr>\n    <tr>\n      <th>2020-03-11 22:27:40.045083</th>\n      <td>15</td>\n    </tr>\n    <tr>\n      <th>2020-03-12 22:27:40.045083</th>\n      <td>27</td>\n    </tr>\n    <tr>\n      <th>2020-03-13 22:27:40.045083</th>\n      <td>6</td>\n    </tr>\n  </tbody>\n</table>\n</div>",
      "text/plain": "                            Random\n2020-03-02 22:27:40.045083      20\n2020-03-03 22:27:40.045083      11\n2020-03-04 22:27:40.045083      21\n2020-03-05 22:27:40.045083      19\n2020-03-06 22:27:40.045083       6\n2020-03-09 22:27:40.045083       4\n2020-03-10 22:27:40.045083       8\n2020-03-11 22:27:40.045083      15\n2020-03-12 22:27:40.045083      27\n2020-03-13 22:27:40.045083       6"
     },
     "execution_count": 2,
     "metadata": {},
     "output_type": "execute_result"
    }
   ],
   "source": [
    "df = pd.DataFrame(np.random.randint(0,30,size=10),\n",
    "                  columns = [\"Random\"],\n",
    "                  index = pd.date_range(datetime.now(), periods=10, freq=\"B\"))\n",
    "df\n",
    "# FREQ = D BY DEFAULT PRINTS ALL DAYS\n",
    "# FREQ = B ONLY BUSINESS DAYS"
   ]
  },
  {
   "cell_type": "markdown",
   "execution_count": null,
   "metadata": {},
   "outputs": [],
   "source": [
    "### 2) Given Pandas series , height = \\[23,42,55\\] and weight = \\[71,32,48\\] . Create a dataframe with height and weight as column names. "
   ]
  },
  {
   "cell_type": "code",
   "execution_count": 3,
   "metadata": {},
   "outputs": [
    {
     "data": {
      "text/html": "<div>\n<style scoped>\n    .dataframe tbody tr th:only-of-type {\n        vertical-align: middle;\n    }\n\n    .dataframe tbody tr th {\n        vertical-align: top;\n    }\n\n    .dataframe thead th {\n        text-align: right;\n    }\n</style>\n<table border=\"1\" class=\"dataframe\">\n  <thead>\n    <tr style=\"text-align: right;\">\n      <th></th>\n      <th>height</th>\n      <th>weight</th>\n    </tr>\n  </thead>\n  <tbody>\n    <tr>\n      <th>0</th>\n      <td>23</td>\n      <td>71</td>\n    </tr>\n    <tr>\n      <th>1</th>\n      <td>42</td>\n      <td>32</td>\n    </tr>\n    <tr>\n      <th>2</th>\n      <td>55</td>\n      <td>48</td>\n    </tr>\n  </tbody>\n</table>\n</div>",
      "text/plain": "   height  weight\n0      23      71\n1      42      32\n2      55      48"
     },
     "execution_count": 3,
     "metadata": {},
     "output_type": "execute_result"
    }
   ],
   "source": [
    "height = [23,42,55]\n",
    "weight = [71,32,48]\n",
    "df = pd.DataFrame(list(zip(height, weight)), columns = [\"height\", \"weight\"])\n",
    "df"
   ]
  },
  {
   "cell_type": "markdown",
   "execution_count": null,
   "metadata": {},
   "outputs": [],
   "source": [
    "### 3) How to get the items of series A not present in series B .From ser1 remove items present in ser2.\n",
    "\n",
    "ser1 = pd.Series(\\[2, 3, 4, 5\\])<br>\n",
    "ser2 = pd.Series(\\[5, 6, 7, 8\\])"
   ]
  },
  {
   "cell_type": "code",
   "execution_count": 4,
   "metadata": {},
   "outputs": [
    {
     "data": {
      "text/plain": "0    2\n1    3\n2    4\ndtype: int64"
     },
     "execution_count": 4,
     "metadata": {},
     "output_type": "execute_result"
    }
   ],
   "source": [
    "ser1 = pd.Series([2, 3, 4, 5])\n",
    "ser2 = pd.Series([5, 6, 7, 8])\n",
    "ser1[np.logical_not(ser1.isin(ser2))]"
   ]
  },
  {
   "cell_type": "markdown",
   "execution_count": null,
   "metadata": {},
   "outputs": [],
   "source": [
    "## Questions on Titanic Dataset"
   ]
  },
  {
   "cell_type": "code",
   "execution_count": 5,
   "metadata": {},
   "outputs": [
    {
     "data": {
      "text/html": "<div>\n<style scoped>\n    .dataframe tbody tr th:only-of-type {\n        vertical-align: middle;\n    }\n\n    .dataframe tbody tr th {\n        vertical-align: top;\n    }\n\n    .dataframe thead th {\n        text-align: right;\n    }\n</style>\n<table border=\"1\" class=\"dataframe\">\n  <thead>\n    <tr style=\"text-align: right;\">\n      <th></th>\n      <th>PassengerId</th>\n      <th>Survived</th>\n      <th>Pclass</th>\n      <th>Name</th>\n      <th>Sex</th>\n      <th>Age</th>\n      <th>SibSp</th>\n      <th>Parch</th>\n      <th>Ticket</th>\n      <th>Fare</th>\n      <th>Cabin</th>\n      <th>Embarked</th>\n    </tr>\n  </thead>\n  <tbody>\n    <tr>\n      <th>0</th>\n      <td>1</td>\n      <td>0</td>\n      <td>3</td>\n      <td>Braund, Mr. Owen Harris</td>\n      <td>male</td>\n      <td>22.0</td>\n      <td>1</td>\n      <td>0</td>\n      <td>A/5 21171</td>\n      <td>7.2500</td>\n      <td>NaN</td>\n      <td>S</td>\n    </tr>\n    <tr>\n      <th>1</th>\n      <td>2</td>\n      <td>1</td>\n      <td>1</td>\n      <td>Cumings, Mrs. John Bradley (Florence Briggs Th...</td>\n      <td>female</td>\n      <td>38.0</td>\n      <td>1</td>\n      <td>0</td>\n      <td>PC 17599</td>\n      <td>71.2833</td>\n      <td>C85</td>\n      <td>C</td>\n    </tr>\n    <tr>\n      <th>2</th>\n      <td>3</td>\n      <td>1</td>\n      <td>3</td>\n      <td>Heikkinen, Miss. Laina</td>\n      <td>female</td>\n      <td>26.0</td>\n      <td>0</td>\n      <td>0</td>\n      <td>STON/O2. 3101282</td>\n      <td>7.9250</td>\n      <td>NaN</td>\n      <td>S</td>\n    </tr>\n    <tr>\n      <th>3</th>\n      <td>4</td>\n      <td>1</td>\n      <td>1</td>\n      <td>Futrelle, Mrs. Jacques Heath (Lily May Peel)</td>\n      <td>female</td>\n      <td>35.0</td>\n      <td>1</td>\n      <td>0</td>\n      <td>113803</td>\n      <td>53.1000</td>\n      <td>C123</td>\n      <td>S</td>\n    </tr>\n    <tr>\n      <th>4</th>\n      <td>5</td>\n      <td>0</td>\n      <td>3</td>\n      <td>Allen, Mr. William Henry</td>\n      <td>male</td>\n      <td>35.0</td>\n      <td>0</td>\n      <td>0</td>\n      <td>373450</td>\n      <td>8.0500</td>\n      <td>NaN</td>\n      <td>S</td>\n    </tr>\n  </tbody>\n</table>\n</div>",
      "text/plain": "   PassengerId  Survived  Pclass  \\\n0            1         0       3   \n1            2         1       1   \n2            3         1       3   \n3            4         1       1   \n4            5         0       3   \n\n                                                Name     Sex   Age  SibSp  \\\n0                            Braund, Mr. Owen Harris    male  22.0      1   \n1  Cumings, Mrs. John Bradley (Florence Briggs Th...  female  38.0      1   \n2                             Heikkinen, Miss. Laina  female  26.0      0   \n3       Futrelle, Mrs. Jacques Heath (Lily May Peel)  female  35.0      1   \n4                           Allen, Mr. William Henry    male  35.0      0   \n\n   Parch            Ticket     Fare Cabin Embarked  \n0      0         A/5 21171   7.2500   NaN        S  \n1      0          PC 17599  71.2833   C85        C  \n2      0  STON/O2. 3101282   7.9250   NaN        S  \n3      0            113803  53.1000  C123        S  \n4      0            373450   8.0500   NaN        S  "
     },
     "execution_count": 5,
     "metadata": {},
     "output_type": "execute_result"
    }
   ],
   "source": [
    "titanic_df = pd.read_csv(r\"F:\\Projects\\end_to_end_data_sets\\titanic.csv\")\n",
    "titanic_df.head()"
   ]
  },
  {
   "cell_type": "markdown",
   "execution_count": null,
   "metadata": {},
   "outputs": [],
   "source": [
    "### 4) Compute the minimum, 25th percentile, median, 75th, and maximum of age in titanic dataset"
   ]
  },
  {
   "cell_type": "code",
   "execution_count": 6,
   "metadata": {},
   "outputs": [
    {
     "data": {
      "text/plain": "count    714.000000\nmean      29.699118\nstd       14.526497\nmin        0.420000\n25%       20.125000\n50%       28.000000\n75%       38.000000\nmax       80.000000\nName: Age, dtype: float64"
     },
     "execution_count": 6,
     "metadata": {},
     "output_type": "execute_result"
    }
   ],
   "source": [
    "titanic_df.describe()['Age']"
   ]
  },
  {
   "cell_type": "code",
   "execution_count": 7,
   "metadata": {},
   "outputs": [
    {
     "data": {
      "text/plain": "28.0"
     },
     "execution_count": 7,
     "metadata": {},
     "output_type": "execute_result"
    }
   ],
   "source": [
    "titanic_df.median()['Age'] # Same as 50%"
   ]
  },
  {
   "cell_type": "markdown",
   "execution_count": null,
   "metadata": {},
   "outputs": [],
   "source": [
    "### 5) How to get frequency counts of unique items of a series? Calculate the frequency counts of ‘SibSp’ column in titanic Dataset"
   ]
  },
  {
   "cell_type": "code",
   "execution_count": 8,
   "metadata": {},
   "outputs": [
    {
     "data": {
      "text/plain": "0    608\n1    209\n2     28\n4     18\n3     16\n8      7\n5      5\nName: SibSp, dtype: int64"
     },
     "execution_count": 8,
     "metadata": {},
     "output_type": "execute_result"
    }
   ],
   "source": [
    "titanic_df['SibSp'].value_counts()"
   ]
  },
  {
   "cell_type": "markdown",
   "execution_count": null,
   "metadata": {},
   "outputs": [],
   "source": [
    "### 6) Keep only top 2 most frequent values as it is and replace everything else as ‘Other’ in ‘Embarked’ column of titanic dataset"
   ]
  },
  {
   "cell_type": "code",
   "execution_count": 9,
   "metadata": {},
   "outputs": [],
   "source": [
    "kexx = titanic_df['SibSp'].value_counts().keys()[:2]\n",
    "\n",
    "titanic_df.loc[titanic_df['SibSp'].isin(list(kexx)), 'Embarked'] = \"Other\""
   ]
  },
  {
   "cell_type": "code",
   "execution_count": 10,
   "metadata": {},
   "outputs": [
    {
     "data": {
      "text/plain": "Other    817\nS         61\nQ          7\nC          6\nName: Embarked, dtype: int64"
     },
     "execution_count": 10,
     "metadata": {},
     "output_type": "execute_result"
    }
   ],
   "source": [
    "titanic_df[\"Embarked\"].value_counts()"
   ]
  },
  {
   "cell_type": "markdown",
   "execution_count": null,
   "metadata": {},
   "outputs": [],
   "source": [
    "### 7) Bin the price column in titanic data set into 5 equal groups and get counts of each bin"
   ]
  },
  {
   "cell_type": "code",
   "execution_count": 11,
   "metadata": {},
   "outputs": [
    {
     "data": {
      "text/plain": "512.3292"
     },
     "execution_count": 11,
     "metadata": {},
     "output_type": "execute_result"
    }
   ],
   "source": [
    "max(titanic_df['Fare'])"
   ]
  },
  {
   "cell_type": "code",
   "execution_count": 12,
   "metadata": {},
   "outputs": [
    {
     "data": {
      "text/plain": "0.0"
     },
     "execution_count": 12,
     "metadata": {},
     "output_type": "execute_result"
    }
   ],
   "source": [
    "min(titanic_df['Fare'])"
   ]
  },
  {
   "cell_type": "code",
   "execution_count": 13,
   "metadata": {},
   "outputs": [
    {
     "data": {
      "text/html": "<div>\n<style scoped>\n    .dataframe tbody tr th:only-of-type {\n        vertical-align: middle;\n    }\n\n    .dataframe tbody tr th {\n        vertical-align: top;\n    }\n\n    .dataframe thead th {\n        text-align: right;\n    }\n</style>\n<table border=\"1\" class=\"dataframe\">\n  <thead>\n    <tr style=\"text-align: right;\">\n      <th></th>\n      <th>PassengerId</th>\n      <th>Survived</th>\n      <th>Pclass</th>\n      <th>Name</th>\n      <th>Sex</th>\n      <th>Age</th>\n      <th>SibSp</th>\n      <th>Parch</th>\n      <th>Ticket</th>\n      <th>Fare</th>\n      <th>Cabin</th>\n      <th>Embarked</th>\n      <th>Price</th>\n    </tr>\n  </thead>\n  <tbody>\n    <tr>\n      <th>0</th>\n      <td>1</td>\n      <td>0</td>\n      <td>3</td>\n      <td>Braund, Mr. Owen Harris</td>\n      <td>male</td>\n      <td>22.0</td>\n      <td>1</td>\n      <td>0</td>\n      <td>A/5 21171</td>\n      <td>7.2500</td>\n      <td>NaN</td>\n      <td>Other</td>\n      <td>Very Low</td>\n    </tr>\n    <tr>\n      <th>1</th>\n      <td>2</td>\n      <td>1</td>\n      <td>1</td>\n      <td>Cumings, Mrs. John Bradley (Florence Briggs Th...</td>\n      <td>female</td>\n      <td>38.0</td>\n      <td>1</td>\n      <td>0</td>\n      <td>PC 17599</td>\n      <td>71.2833</td>\n      <td>C85</td>\n      <td>Other</td>\n      <td>Very High</td>\n    </tr>\n    <tr>\n      <th>2</th>\n      <td>3</td>\n      <td>1</td>\n      <td>3</td>\n      <td>Heikkinen, Miss. Laina</td>\n      <td>female</td>\n      <td>26.0</td>\n      <td>0</td>\n      <td>0</td>\n      <td>STON/O2. 3101282</td>\n      <td>7.9250</td>\n      <td>NaN</td>\n      <td>Other</td>\n      <td>Low</td>\n    </tr>\n    <tr>\n      <th>3</th>\n      <td>4</td>\n      <td>1</td>\n      <td>1</td>\n      <td>Futrelle, Mrs. Jacques Heath (Lily May Peel)</td>\n      <td>female</td>\n      <td>35.0</td>\n      <td>1</td>\n      <td>0</td>\n      <td>113803</td>\n      <td>53.1000</td>\n      <td>C123</td>\n      <td>Other</td>\n      <td>Very High</td>\n    </tr>\n    <tr>\n      <th>4</th>\n      <td>5</td>\n      <td>0</td>\n      <td>3</td>\n      <td>Allen, Mr. William Henry</td>\n      <td>male</td>\n      <td>35.0</td>\n      <td>0</td>\n      <td>0</td>\n      <td>373450</td>\n      <td>8.0500</td>\n      <td>NaN</td>\n      <td>Other</td>\n      <td>Low</td>\n    </tr>\n    <tr>\n      <th>...</th>\n      <td>...</td>\n      <td>...</td>\n      <td>...</td>\n      <td>...</td>\n      <td>...</td>\n      <td>...</td>\n      <td>...</td>\n      <td>...</td>\n      <td>...</td>\n      <td>...</td>\n      <td>...</td>\n      <td>...</td>\n      <td>...</td>\n    </tr>\n    <tr>\n      <th>886</th>\n      <td>887</td>\n      <td>0</td>\n      <td>2</td>\n      <td>Montvila, Rev. Juozas</td>\n      <td>male</td>\n      <td>27.0</td>\n      <td>0</td>\n      <td>0</td>\n      <td>211536</td>\n      <td>13.0000</td>\n      <td>NaN</td>\n      <td>Other</td>\n      <td>Medium</td>\n    </tr>\n    <tr>\n      <th>887</th>\n      <td>888</td>\n      <td>1</td>\n      <td>1</td>\n      <td>Graham, Miss. Margaret Edith</td>\n      <td>female</td>\n      <td>19.0</td>\n      <td>0</td>\n      <td>0</td>\n      <td>112053</td>\n      <td>30.0000</td>\n      <td>B42</td>\n      <td>Other</td>\n      <td>High</td>\n    </tr>\n    <tr>\n      <th>888</th>\n      <td>889</td>\n      <td>0</td>\n      <td>3</td>\n      <td>Johnston, Miss. Catherine Helen \"Carrie\"</td>\n      <td>female</td>\n      <td>NaN</td>\n      <td>1</td>\n      <td>2</td>\n      <td>W./C. 6607</td>\n      <td>23.4500</td>\n      <td>NaN</td>\n      <td>Other</td>\n      <td>High</td>\n    </tr>\n    <tr>\n      <th>889</th>\n      <td>890</td>\n      <td>1</td>\n      <td>1</td>\n      <td>Behr, Mr. Karl Howell</td>\n      <td>male</td>\n      <td>26.0</td>\n      <td>0</td>\n      <td>0</td>\n      <td>111369</td>\n      <td>30.0000</td>\n      <td>C148</td>\n      <td>Other</td>\n      <td>High</td>\n    </tr>\n    <tr>\n      <th>890</th>\n      <td>891</td>\n      <td>0</td>\n      <td>3</td>\n      <td>Dooley, Mr. Patrick</td>\n      <td>male</td>\n      <td>32.0</td>\n      <td>0</td>\n      <td>0</td>\n      <td>370376</td>\n      <td>7.7500</td>\n      <td>NaN</td>\n      <td>Other</td>\n      <td>Very Low</td>\n    </tr>\n  </tbody>\n</table>\n<p>891 rows × 13 columns</p>\n</div>",
      "text/plain": "     PassengerId  Survived  Pclass  \\\n0              1         0       3   \n1              2         1       1   \n2              3         1       3   \n3              4         1       1   \n4              5         0       3   \n..           ...       ...     ...   \n886          887         0       2   \n887          888         1       1   \n888          889         0       3   \n889          890         1       1   \n890          891         0       3   \n\n                                                  Name     Sex   Age  SibSp  \\\n0                              Braund, Mr. Owen Harris    male  22.0      1   \n1    Cumings, Mrs. John Bradley (Florence Briggs Th...  female  38.0      1   \n2                               Heikkinen, Miss. Laina  female  26.0      0   \n3         Futrelle, Mrs. Jacques Heath (Lily May Peel)  female  35.0      1   \n4                             Allen, Mr. William Henry    male  35.0      0   \n..                                                 ...     ...   ...    ...   \n886                              Montvila, Rev. Juozas    male  27.0      0   \n887                       Graham, Miss. Margaret Edith  female  19.0      0   \n888           Johnston, Miss. Catherine Helen \"Carrie\"  female   NaN      1   \n889                              Behr, Mr. Karl Howell    male  26.0      0   \n890                                Dooley, Mr. Patrick    male  32.0      0   \n\n     Parch            Ticket     Fare Cabin Embarked      Price  \n0        0         A/5 21171   7.2500   NaN    Other   Very Low  \n1        0          PC 17599  71.2833   C85    Other  Very High  \n2        0  STON/O2. 3101282   7.9250   NaN    Other        Low  \n3        0            113803  53.1000  C123    Other  Very High  \n4        0            373450   8.0500   NaN    Other        Low  \n..     ...               ...      ...   ...      ...        ...  \n886      0            211536  13.0000   NaN    Other     Medium  \n887      0            112053  30.0000   B42    Other       High  \n888      2        W./C. 6607  23.4500   NaN    Other       High  \n889      0            111369  30.0000  C148    Other       High  \n890      0            370376   7.7500   NaN    Other   Very Low  \n\n[891 rows x 13 columns]"
     },
     "execution_count": 13,
     "metadata": {},
     "output_type": "execute_result"
    }
   ],
   "source": [
    "titanic_df[\"Price\"] = pd.qcut(titanic_df.Fare,q = 5,labels=['Very Low', 'Low', 'Medium', 'High', 'Very High'], precision=0)\n",
    "titanic_df"
   ]
  },
  {
   "cell_type": "code",
   "execution_count": 14,
   "metadata": {},
   "outputs": [
    {
     "data": {
      "text/plain": "Low          184\nHigh         180\nVery Low     179\nVery High    176\nMedium       172\nName: Price, dtype: int64"
     },
     "execution_count": 14,
     "metadata": {},
     "output_type": "execute_result"
    }
   ],
   "source": [
    "titanic_df[\"Price\"].value_counts()"
   ]
  },
  {
   "cell_type": "markdown",
   "execution_count": null,
   "metadata": {},
   "outputs": [],
   "source": [
    "### 8) Count the number of missing values in each column?"
   ]
  },
  {
   "cell_type": "code",
   "execution_count": 15,
   "metadata": {},
   "outputs": [
    {
     "data": {
      "text/plain": "PassengerId      0\nSurvived         0\nPclass           0\nName             0\nSex              0\nAge            177\nSibSp            0\nParch            0\nTicket           0\nFare             0\nCabin          687\nEmbarked         0\nPrice            0\ndtype: int64"
     },
     "execution_count": 15,
     "metadata": {},
     "output_type": "execute_result"
    }
   ],
   "source": [
    "titanic_df.isna().sum()"
   ]
  },
  {
   "cell_type": "markdown",
   "execution_count": null,
   "metadata": {},
   "outputs": [],
   "source": [
    "### 9) Get the row number of the 5th largest value in the Age column of titanic dataset?"
   ]
  },
  {
   "cell_type": "code",
   "execution_count": 16,
   "metadata": {},
   "outputs": [
    {
     "data": {
      "text/html": "<div>\n<style scoped>\n    .dataframe tbody tr th:only-of-type {\n        vertical-align: middle;\n    }\n\n    .dataframe tbody tr th {\n        vertical-align: top;\n    }\n\n    .dataframe thead th {\n        text-align: right;\n    }\n</style>\n<table border=\"1\" class=\"dataframe\">\n  <thead>\n    <tr style=\"text-align: right;\">\n      <th></th>\n      <th>PassengerId</th>\n      <th>Survived</th>\n      <th>Pclass</th>\n      <th>Name</th>\n      <th>Sex</th>\n      <th>Age</th>\n      <th>SibSp</th>\n      <th>Parch</th>\n      <th>Ticket</th>\n      <th>Fare</th>\n      <th>Cabin</th>\n      <th>Embarked</th>\n      <th>Price</th>\n    </tr>\n  </thead>\n  <tbody>\n    <tr>\n      <th>116</th>\n      <td>117</td>\n      <td>0</td>\n      <td>3</td>\n      <td>Connors, Mr. Patrick</td>\n      <td>male</td>\n      <td>70.5</td>\n      <td>0</td>\n      <td>0</td>\n      <td>370369</td>\n      <td>7.75</td>\n      <td>NaN</td>\n      <td>Other</td>\n      <td>Very Low</td>\n    </tr>\n  </tbody>\n</table>\n</div>",
      "text/plain": "     PassengerId  Survived  Pclass                  Name   Sex   Age  SibSp  \\\n116          117         0       3  Connors, Mr. Patrick  male  70.5      0   \n\n     Parch  Ticket  Fare Cabin Embarked     Price  \n116      0  370369  7.75   NaN    Other  Very Low  "
     },
     "execution_count": 16,
     "metadata": {},
     "output_type": "execute_result"
    }
   ],
   "source": [
    "titanic_df.nlargest(5, ['Age'])[-1:]"
   ]
  },
  {
   "cell_type": "markdown",
   "execution_count": null,
   "metadata": {},
   "outputs": [],
   "source": [
    "### 10) Normalize all columns in a dataframe?"
   ]
  },
  {
   "cell_type": "code",
   "execution_count": 17,
   "metadata": {},
   "outputs": [
    {
     "name": "stdout",
     "output_type": "stream",
     "text": "<class 'pandas.core.frame.DataFrame'>\nRangeIndex: 891 entries, 0 to 890\nData columns (total 13 columns):\nPassengerId    891 non-null int64\nSurvived       891 non-null int64\nPclass         891 non-null int64\nName           891 non-null object\nSex            891 non-null object\nAge            714 non-null float64\nSibSp          891 non-null int64\nParch          891 non-null int64\nTicket         891 non-null object\nFare           891 non-null float64\nCabin          204 non-null object\nEmbarked       891 non-null object\nPrice          891 non-null category\ndtypes: category(1), float64(2), int64(5), object(5)\nmemory usage: 84.7+ KB\n"
    }
   ],
   "source": [
    "titanic_df.info()"
   ]
  },
  {
   "cell_type": "code",
   "execution_count": 18,
   "metadata": {},
   "outputs": [],
   "source": [
    "int_titanic_df = titanic_df.select_dtypes(exclude=['object', 'category'])"
   ]
  },
  {
   "cell_type": "code",
   "execution_count": 19,
   "metadata": {},
   "outputs": [],
   "source": [
    "normalized_df=(int_titanic_df-int_titanic_df.mean())/int_titanic_df.std() * 20"
   ]
  },
  {
   "cell_type": "code",
   "execution_count": 20,
   "metadata": {},
   "outputs": [
    {
     "data": {
      "text/html": "<div>\n<style scoped>\n    .dataframe tbody tr th:only-of-type {\n        vertical-align: middle;\n    }\n\n    .dataframe tbody tr th {\n        vertical-align: top;\n    }\n\n    .dataframe thead th {\n        text-align: right;\n    }\n</style>\n<table border=\"1\" class=\"dataframe\">\n  <thead>\n    <tr style=\"text-align: right;\">\n      <th></th>\n      <th>PassengerId</th>\n      <th>Survived</th>\n      <th>Pclass</th>\n      <th>Age</th>\n      <th>SibSp</th>\n      <th>Parch</th>\n      <th>Fare</th>\n    </tr>\n  </thead>\n  <tbody>\n    <tr>\n      <th>0</th>\n      <td>-34.582736</td>\n      <td>-15.776586</td>\n      <td>16.538256</td>\n      <td>-10.600102</td>\n      <td>8.651009</td>\n      <td>-9.468154</td>\n      <td>-10.043263</td>\n    </tr>\n    <tr>\n      <th>1</th>\n      <td>-34.505022</td>\n      <td>25.325572</td>\n      <td>-31.304557</td>\n      <td>11.428608</td>\n      <td>8.651009</td>\n      <td>-9.468154</td>\n      <td>15.728072</td>\n    </tr>\n    <tr>\n      <th>2</th>\n      <td>-34.427308</td>\n      <td>25.325572</td>\n      <td>16.538256</td>\n      <td>-5.092924</td>\n      <td>-9.485576</td>\n      <td>-9.468154</td>\n      <td>-9.771597</td>\n    </tr>\n    <tr>\n      <th>3</th>\n      <td>-34.349594</td>\n      <td>25.325572</td>\n      <td>-31.304557</td>\n      <td>7.298225</td>\n      <td>8.651009</td>\n      <td>-9.468154</td>\n      <td>8.409881</td>\n    </tr>\n    <tr>\n      <th>4</th>\n      <td>-34.271880</td>\n      <td>-15.776586</td>\n      <td>16.538256</td>\n      <td>7.298225</td>\n      <td>-9.485576</td>\n      <td>-9.468154</td>\n      <td>-9.721289</td>\n    </tr>\n    <tr>\n      <th>...</th>\n      <td>...</td>\n      <td>...</td>\n      <td>...</td>\n      <td>...</td>\n      <td>...</td>\n      <td>...</td>\n      <td>...</td>\n    </tr>\n    <tr>\n      <th>886</th>\n      <td>34.271880</td>\n      <td>-15.776586</td>\n      <td>-7.383150</td>\n      <td>-3.716130</td>\n      <td>-9.485576</td>\n      <td>-9.468154</td>\n      <td>-7.729073</td>\n    </tr>\n    <tr>\n      <th>887</th>\n      <td>34.349594</td>\n      <td>25.325572</td>\n      <td>-31.304557</td>\n      <td>-14.730485</td>\n      <td>-9.485576</td>\n      <td>-9.468154</td>\n      <td>-0.887123</td>\n    </tr>\n    <tr>\n      <th>888</th>\n      <td>34.427308</td>\n      <td>-15.776586</td>\n      <td>16.538256</td>\n      <td>NaN</td>\n      <td>8.651009</td>\n      <td>40.156114</td>\n      <td>-3.523286</td>\n    </tr>\n    <tr>\n      <th>889</th>\n      <td>34.505022</td>\n      <td>25.325572</td>\n      <td>-31.304557</td>\n      <td>-5.092924</td>\n      <td>-9.485576</td>\n      <td>-9.468154</td>\n      <td>-0.887123</td>\n    </tr>\n    <tr>\n      <th>890</th>\n      <td>34.582736</td>\n      <td>-15.776586</td>\n      <td>16.538256</td>\n      <td>3.167842</td>\n      <td>-9.485576</td>\n      <td>-9.468154</td>\n      <td>-9.842029</td>\n    </tr>\n  </tbody>\n</table>\n<p>891 rows × 7 columns</p>\n</div>",
      "text/plain": "     PassengerId   Survived     Pclass        Age     SibSp      Parch  \\\n0     -34.582736 -15.776586  16.538256 -10.600102  8.651009  -9.468154   \n1     -34.505022  25.325572 -31.304557  11.428608  8.651009  -9.468154   \n2     -34.427308  25.325572  16.538256  -5.092924 -9.485576  -9.468154   \n3     -34.349594  25.325572 -31.304557   7.298225  8.651009  -9.468154   \n4     -34.271880 -15.776586  16.538256   7.298225 -9.485576  -9.468154   \n..           ...        ...        ...        ...       ...        ...   \n886    34.271880 -15.776586  -7.383150  -3.716130 -9.485576  -9.468154   \n887    34.349594  25.325572 -31.304557 -14.730485 -9.485576  -9.468154   \n888    34.427308 -15.776586  16.538256        NaN  8.651009  40.156114   \n889    34.505022  25.325572 -31.304557  -5.092924 -9.485576  -9.468154   \n890    34.582736 -15.776586  16.538256   3.167842 -9.485576  -9.468154   \n\n          Fare  \n0   -10.043263  \n1    15.728072  \n2    -9.771597  \n3     8.409881  \n4    -9.721289  \n..         ...  \n886  -7.729073  \n887  -0.887123  \n888  -3.523286  \n889  -0.887123  \n890  -9.842029  \n\n[891 rows x 7 columns]"
     },
     "execution_count": 20,
     "metadata": {},
     "output_type": "execute_result"
    }
   ],
   "source": [
    "normalized_df"
   ]
  },
  {
   "cell_type": "markdown",
   "execution_count": null,
   "metadata": {},
   "outputs": [],
   "source": [
    "### 11) Get the indices of items of ser2 in ser1 as a list.\n",
    "\n",
    "ser1 = pd.Series(\\[10, 9, 6, 5, 3, 1, 12, 8, 13\\])<br>\n",
    "ser2 = pd.Series(\\[1, 3, 10, 13\\])"
   ]
  },
  {
   "cell_type": "code",
   "execution_count": 21,
   "metadata": {},
   "outputs": [],
   "source": [
    "ser1 = pd.Series([10, 9, 6, 5, 3, 1, 12, 8, 13])\n",
    "ser2 = pd.Series([1, 3, 10, 13])"
   ]
  },
  {
   "cell_type": "code",
   "execution_count": 22,
   "metadata": {},
   "outputs": [
    {
     "data": {
      "text/plain": "0    10\n1     9\n2     6\n3     5\n4     3\n5     1\n6    12\n7     8\n8    13\ndtype: int64"
     },
     "execution_count": 22,
     "metadata": {},
     "output_type": "execute_result"
    }
   ],
   "source": [
    "ser1"
   ]
  },
  {
   "cell_type": "code",
   "execution_count": 23,
   "metadata": {},
   "outputs": [
    {
     "data": {
      "text/plain": "1     9.0\n3     5.0\n10    NaN\n13    NaN\ndtype: float64"
     },
     "execution_count": 23,
     "metadata": {},
     "output_type": "execute_result"
    }
   ],
   "source": [
    "ser1[[1, 3, 10, 13]]"
   ]
  },
  {
   "cell_type": "markdown",
   "execution_count": null,
   "metadata": {},
   "outputs": [],
   "source": [
    "### 12) How to convert a series of date-strings to a timeseries?\n",
    "\n",
    "\\[\"01 Jan 2010\", \"02-02-2011\", \"20120303\", \"2013/04/04\", \"2014-05-05\", \"2015-06-06T12:20\"\\]"
   ]
  },
  {
   "cell_type": "code",
   "execution_count": 24,
   "metadata": {},
   "outputs": [
    {
     "data": {
      "text/plain": "DatetimeIndex(['2010-01-01 00:00:00', '2011-02-02 00:00:00',\n               '2012-03-03 00:00:00', '2013-04-04 00:00:00',\n               '2014-05-05 00:00:00', '2015-06-06 12:20:00'],\n              dtype='datetime64[ns]', freq=None)"
     },
     "execution_count": 24,
     "metadata": {},
     "output_type": "execute_result"
    }
   ],
   "source": [
    "date_series = [\"01 Jan 2010\", \"02-02-2011\", \"20120303\", \"2013/04/04\", \"2014-05-05\", \"2015-06-06T12:20\"]\n",
    "pd.to_datetime(date_series)"
   ]
  },
  {
   "cell_type": "markdown",
   "execution_count": null,
   "metadata": {},
   "outputs": [],
   "source": [
    "### 13) Get the day of month, week number, day of year and day of week from ser.\n",
    "\n",
    "ser = pd.Series(\\[\"01 Jan 2010\", \"02-02-2011\", \"20120303\", \"2013/04/04\", \"2014-05-05\", \"2015-06-06T12:20\"\\])"
   ]
  },
  {
   "cell_type": "code",
   "execution_count": 25,
   "metadata": {},
   "outputs": [
    {
     "name": "stdout",
     "output_type": "stream",
     "text": "Day of month:\n[1, 2, 3, 4, 5, 6]\n\nWeek number:\n[53, 5, 9, 14, 19, 23]\n\nDay of year:\n[1, 33, 63, 94, 125, 157]\n\nDay of week:\n['Friday', 'Wednesday', 'Saturday', 'Thursday', 'Monday', 'Saturday']\n"
    }
   ],
   "source": [
    "ser = pd.Series([\"01 Jan 2010\", \"02-02-2011\", \"20120303\", \"2013/04/04\", \"2014-05-05\", \"2015-06-06T12:20\"])\n",
    "norm_date = pd.to_datetime(ser)\n",
    "\n",
    "print(\"Day of month:\")\n",
    "print(norm_date.dt.day.tolist())\n",
    "print(\"\\nWeek number:\")\n",
    "print(norm_date.dt.weekofyear.tolist())\n",
    "print(\"\\nDay of year:\")\n",
    "print(norm_date.dt.dayofyear.tolist())\n",
    "print(\"\\nDay of week:\")\n",
    "print(norm_date.dt.weekday_name.tolist())"
   ]
  },
  {
   "cell_type": "markdown",
   "execution_count": null,
   "metadata": {},
   "outputs": [],
   "source": [
    "### 14) Compute the euclidean distance between series (points) p and q, without using a packaged formula.\n",
    "\n",
    "p = pd.Series(\\[1, 2, 3, 4, 5, 6, 7, 8, 9, 10\\])<br>\n",
    "q = pd.Series(\\[10, 9, 8, 7, 6, 5, 4, 3, 2, 1\\])\n",
    "\n",
    "Desired Output 18.165\n",
    "\n"
   ]
  },
  {
   "cell_type": "code",
   "execution_count": 26,
   "metadata": {},
   "outputs": [
    {
     "name": "stdout",
     "output_type": "stream",
     "text": "Euclidean Distance: 18.16590212458495\n"
    }
   ],
   "source": [
    "p = pd.Series([1, 2, 3, 4, 5, 6, 7, 8, 9, 10])\n",
    "q = pd.Series([10, 9, 8, 7, 6, 5, 4, 3, 2, 1])\n",
    "print(\"Euclidean Distance: {}\".format(sum((a - b) ** 2 for a, b in zip(p, q)) ** .5))"
   ]
  },
  {
   "cell_type": "markdown",
   "execution_count": null,
   "metadata": {},
   "outputs": [],
   "source": [
    "### 15) How to create a TimeSeries starting ‘2000-01-01’ and 10 weekends (saturdays/sundays)"
   ]
  },
  {
   "cell_type": "code",
   "execution_count": 27,
   "metadata": {},
   "outputs": [
    {
     "data": {
      "text/plain": "0    2000-01-01\n1    2000-01-02\n7    2000-01-08\n8    2000-01-09\n14   2000-01-15\n15   2000-01-16\n21   2000-01-22\n22   2000-01-23\n28   2000-01-29\n29   2000-01-30\ndtype: datetime64[ns]"
     },
     "execution_count": 27,
     "metadata": {},
     "output_type": "execute_result"
    }
   ],
   "source": [
    "df = pd.Series(pd.date_range(\"2000-01-01\", periods=100))\n",
    "df.loc[df.dt.weekday.isin([5, 6])][:10]"
   ]
  },
  {
   "cell_type": "markdown",
   "execution_count": null,
   "metadata": {},
   "outputs": [],
   "source": [
    "### 16) Import every 50th row of BostonHousing dataset as a dataframe."
   ]
  },
  {
   "cell_type": "code",
   "execution_count": 28,
   "metadata": {},
   "outputs": [
    {
     "data": {
      "text/html": "<div>\n<style scoped>\n    .dataframe tbody tr th:only-of-type {\n        vertical-align: middle;\n    }\n\n    .dataframe tbody tr th {\n        vertical-align: top;\n    }\n\n    .dataframe thead th {\n        text-align: right;\n    }\n</style>\n<table border=\"1\" class=\"dataframe\">\n  <thead>\n    <tr style=\"text-align: right;\">\n      <th></th>\n      <th>CRIM</th>\n      <th>ZN</th>\n      <th>INDUS</th>\n      <th>CHAS</th>\n      <th>NOX</th>\n      <th>RM</th>\n      <th>AGE</th>\n      <th>DIS</th>\n      <th>RAD</th>\n      <th>TAX</th>\n      <th>PTRATIO</th>\n      <th>B</th>\n      <th>LSTAT</th>\n      <th>MEDV</th>\n    </tr>\n  </thead>\n  <tbody>\n    <tr>\n      <th>0</th>\n      <td>0.00632</td>\n      <td>18.0</td>\n      <td>2.31</td>\n      <td>0.0</td>\n      <td>0.538</td>\n      <td>6.575</td>\n      <td>65.2</td>\n      <td>4.0900</td>\n      <td>1.0</td>\n      <td>296.0</td>\n      <td>15.3</td>\n      <td>396.90</td>\n      <td>4.98</td>\n      <td>24.0</td>\n    </tr>\n    <tr>\n      <th>50</th>\n      <td>0.08873</td>\n      <td>21.0</td>\n      <td>5.64</td>\n      <td>0.0</td>\n      <td>0.439</td>\n      <td>5.963</td>\n      <td>45.7</td>\n      <td>6.8147</td>\n      <td>4.0</td>\n      <td>243.0</td>\n      <td>16.8</td>\n      <td>395.56</td>\n      <td>13.45</td>\n      <td>19.7</td>\n    </tr>\n    <tr>\n      <th>100</th>\n      <td>0.14866</td>\n      <td>0.0</td>\n      <td>8.56</td>\n      <td>0.0</td>\n      <td>0.520</td>\n      <td>6.727</td>\n      <td>79.9</td>\n      <td>2.7778</td>\n      <td>5.0</td>\n      <td>384.0</td>\n      <td>20.9</td>\n      <td>394.76</td>\n      <td>9.42</td>\n      <td>27.5</td>\n    </tr>\n    <tr>\n      <th>150</th>\n      <td>1.65660</td>\n      <td>0.0</td>\n      <td>19.58</td>\n      <td>0.0</td>\n      <td>0.871</td>\n      <td>6.122</td>\n      <td>97.3</td>\n      <td>1.6180</td>\n      <td>5.0</td>\n      <td>403.0</td>\n      <td>14.7</td>\n      <td>372.80</td>\n      <td>14.10</td>\n      <td>21.5</td>\n    </tr>\n    <tr>\n      <th>200</th>\n      <td>0.01778</td>\n      <td>95.0</td>\n      <td>1.47</td>\n      <td>0.0</td>\n      <td>0.403</td>\n      <td>7.135</td>\n      <td>13.9</td>\n      <td>7.6534</td>\n      <td>3.0</td>\n      <td>402.0</td>\n      <td>17.0</td>\n      <td>384.30</td>\n      <td>4.45</td>\n      <td>32.9</td>\n    </tr>\n    <tr>\n      <th>250</th>\n      <td>0.14030</td>\n      <td>22.0</td>\n      <td>5.86</td>\n      <td>0.0</td>\n      <td>0.431</td>\n      <td>6.487</td>\n      <td>13.0</td>\n      <td>7.3967</td>\n      <td>7.0</td>\n      <td>330.0</td>\n      <td>19.1</td>\n      <td>396.28</td>\n      <td>5.90</td>\n      <td>24.4</td>\n    </tr>\n    <tr>\n      <th>300</th>\n      <td>0.04417</td>\n      <td>70.0</td>\n      <td>2.24</td>\n      <td>0.0</td>\n      <td>0.400</td>\n      <td>6.871</td>\n      <td>47.4</td>\n      <td>7.8278</td>\n      <td>5.0</td>\n      <td>358.0</td>\n      <td>14.8</td>\n      <td>390.86</td>\n      <td>6.07</td>\n      <td>24.8</td>\n    </tr>\n    <tr>\n      <th>350</th>\n      <td>0.06211</td>\n      <td>40.0</td>\n      <td>1.25</td>\n      <td>0.0</td>\n      <td>0.429</td>\n      <td>6.490</td>\n      <td>44.4</td>\n      <td>8.7921</td>\n      <td>1.0</td>\n      <td>335.0</td>\n      <td>19.7</td>\n      <td>396.90</td>\n      <td>5.98</td>\n      <td>22.9</td>\n    </tr>\n    <tr>\n      <th>400</th>\n      <td>25.04610</td>\n      <td>0.0</td>\n      <td>18.10</td>\n      <td>0.0</td>\n      <td>0.693</td>\n      <td>5.987</td>\n      <td>100.0</td>\n      <td>1.5888</td>\n      <td>24.0</td>\n      <td>666.0</td>\n      <td>20.2</td>\n      <td>396.90</td>\n      <td>26.77</td>\n      <td>5.6</td>\n    </tr>\n    <tr>\n      <th>450</th>\n      <td>6.71772</td>\n      <td>0.0</td>\n      <td>18.10</td>\n      <td>0.0</td>\n      <td>0.713</td>\n      <td>6.749</td>\n      <td>92.6</td>\n      <td>2.3236</td>\n      <td>24.0</td>\n      <td>666.0</td>\n      <td>20.2</td>\n      <td>0.32</td>\n      <td>17.44</td>\n      <td>13.4</td>\n    </tr>\n    <tr>\n      <th>500</th>\n      <td>0.22438</td>\n      <td>0.0</td>\n      <td>9.69</td>\n      <td>0.0</td>\n      <td>0.585</td>\n      <td>6.027</td>\n      <td>79.7</td>\n      <td>2.4982</td>\n      <td>6.0</td>\n      <td>391.0</td>\n      <td>19.2</td>\n      <td>396.90</td>\n      <td>14.33</td>\n      <td>16.8</td>\n    </tr>\n  </tbody>\n</table>\n</div>",
      "text/plain": "         CRIM    ZN  INDUS  CHAS    NOX     RM    AGE     DIS   RAD    TAX  \\\n0     0.00632  18.0   2.31   0.0  0.538  6.575   65.2  4.0900   1.0  296.0   \n50    0.08873  21.0   5.64   0.0  0.439  5.963   45.7  6.8147   4.0  243.0   \n100   0.14866   0.0   8.56   0.0  0.520  6.727   79.9  2.7778   5.0  384.0   \n150   1.65660   0.0  19.58   0.0  0.871  6.122   97.3  1.6180   5.0  403.0   \n200   0.01778  95.0   1.47   0.0  0.403  7.135   13.9  7.6534   3.0  402.0   \n250   0.14030  22.0   5.86   0.0  0.431  6.487   13.0  7.3967   7.0  330.0   \n300   0.04417  70.0   2.24   0.0  0.400  6.871   47.4  7.8278   5.0  358.0   \n350   0.06211  40.0   1.25   0.0  0.429  6.490   44.4  8.7921   1.0  335.0   \n400  25.04610   0.0  18.10   0.0  0.693  5.987  100.0  1.5888  24.0  666.0   \n450   6.71772   0.0  18.10   0.0  0.713  6.749   92.6  2.3236  24.0  666.0   \n500   0.22438   0.0   9.69   0.0  0.585  6.027   79.7  2.4982   6.0  391.0   \n\n     PTRATIO       B  LSTAT  MEDV  \n0       15.3  396.90   4.98  24.0  \n50      16.8  395.56  13.45  19.7  \n100     20.9  394.76   9.42  27.5  \n150     14.7  372.80  14.10  21.5  \n200     17.0  384.30   4.45  32.9  \n250     19.1  396.28   5.90  24.4  \n300     14.8  390.86   6.07  24.8  \n350     19.7  396.90   5.98  22.9  \n400     20.2  396.90  26.77   5.6  \n450     20.2    0.32  17.44  13.4  \n500     19.2  396.90  14.33  16.8  "
     },
     "execution_count": 28,
     "metadata": {},
     "output_type": "execute_result"
    }
   ],
   "source": [
    "boston_df = pd.read_csv(r\"F:\\Projects\\end_to_end_data_sets\\boston_house_price.csv\")\n",
    "boston_df.head()\n",
    "fifty_boston = boston_df.iloc[::50, :]\n",
    "fifty_boston"
   ]
  }
 ]
}