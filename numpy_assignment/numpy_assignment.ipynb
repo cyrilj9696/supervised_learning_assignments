{
 "nbformat": 4,
 "nbformat_minor": 2,
 "metadata": {
  "language_info": {
   "name": "python",
   "codemirror_mode": {
    "name": "ipython",
    "version": 3
   },
   "version": "3.7.4-final"
  },
  "orig_nbformat": 2,
  "file_extension": ".py",
  "mimetype": "text/x-python",
  "name": "python",
  "npconvert_exporter": "python",
  "pygments_lexer": "ipython3",
  "version": 3,
  "kernelspec": {
   "name": "python37464bitca0a6b7e96d549838a58bc5e9a4cdff6",
   "display_name": "Python 3.7.4 64-bit"
  }
 },
 "cells": [
  {
   "cell_type": "markdown",
   "execution_count": null,
   "metadata": {},
   "outputs": [],
   "source": [
    "# Numpy Assignments"
   ]
  },
  {
   "cell_type": "code",
   "execution_count": 1,
   "metadata": {},
   "outputs": [],
   "source": [
    "# Libraries\n",
    "import numpy as np"
   ]
  },
  {
   "cell_type": "code",
   "execution_count": 2,
   "metadata": {},
   "outputs": [],
   "source": [
    "def inspect(x):\n",
    "    print(f'Shape : {x.shape}\\nDimensions : {x.ndim}\\nSize: {x.size}\\nContent : \\n{x}')"
   ]
  },
  {
   "cell_type": "markdown",
   "execution_count": null,
   "metadata": {},
   "outputs": [],
   "source": [
    "### 1) Create a 1D array of numbers from 0 to 9.\n",
    "\n"
   ]
  },
  {
   "cell_type": "code",
   "execution_count": 3,
   "metadata": {},
   "outputs": [
    {
     "name": "stdout",
     "output_type": "stream",
     "text": "Shape : (10,)\nDimensions : 1\nSize: 10\nContent : \n[0 1 2 3 4 5 6 7 8 9]\n"
    }
   ],
   "source": [
    "x = np.arange(0, 10)\n",
    "inspect(x)"
   ]
  },
  {
   "cell_type": "markdown",
   "execution_count": null,
   "metadata": {},
   "outputs": [],
   "source": [
    "### 2) Create a 3×3 numpy array of all True’s"
   ]
  },
  {
   "cell_type": "code",
   "execution_count": 4,
   "metadata": {},
   "outputs": [
    {
     "name": "stdout",
     "output_type": "stream",
     "text": "Shape : (3, 3)\nDimensions : 2\nSize: 9\nContent : \n[[ True  True  True]\n [ True  True  True]\n [ True  True  True]]\n"
    }
   ],
   "source": [
    "x = np.ones((3, 3), dtype = bool)\n",
    "inspect(x)"
   ]
  },
  {
   "cell_type": "markdown",
   "execution_count": null,
   "metadata": {},
   "outputs": [],
   "source": [
    "### 3) Given an array as input, print only odd numbers as output"
   ]
  },
  {
   "cell_type": "code",
   "execution_count": 5,
   "metadata": {},
   "outputs": [
    {
     "name": "stdout",
     "output_type": "stream",
     "text": "Shape : (20,)\nDimensions : 1\nSize: 20\nContent : \n[ 0  1  2  3  4  5  6  7  8  9 10 11 12 13 14 15 16 17 18 19]\n\n\nShape : (10,)\nDimensions : 1\nSize: 10\nContent : \n[ 1  3  5  7  9 11 13 15 17 19]\n"
    }
   ],
   "source": [
    "x = np.arange(0, 20)\n",
    "inspect(x)\n",
    "y = x[np.where(x%2)]\n",
    "print('\\n')\n",
    "inspect(y)"
   ]
  },
  {
   "cell_type": "markdown",
   "execution_count": null,
   "metadata": {},
   "outputs": [],
   "source": [
    "### 4) Replace all odd numbers in arr with -2"
   ]
  },
  {
   "cell_type": "code",
   "execution_count": 6,
   "metadata": {},
   "outputs": [
    {
     "name": "stdout",
     "output_type": "stream",
     "text": "Shape : (20,)\nDimensions : 1\nSize: 20\nContent : \n[ 0 -2  2 -2  4 -2  6 -2  8 -2 10 -2 12 -2 14 -2 16 -2 18 -2]\n"
    }
   ],
   "source": [
    "x = np.arange(0, 20)\n",
    "x[np.where(x%2)] = -2\n",
    "inspect(x)"
   ]
  },
  {
   "cell_type": "markdown",
   "execution_count": null,
   "metadata": {},
   "outputs": [],
   "source": [
    "### 5) How to reshape an array?"
   ]
  },
  {
   "cell_type": "code",
   "execution_count": 7,
   "metadata": {},
   "outputs": [
    {
     "name": "stdout",
     "output_type": "stream",
     "text": "Shape : (20,)\nDimensions : 1\nSize: 20\nContent : \n[ 0  1  2  3  4  5  6  7  8  9 10 11 12 13 14 15 16 17 18 19]\n\n\nShape : (10, 2)\nDimensions : 2\nSize: 20\nContent : \n[[ 0  1]\n [ 2  3]\n [ 4  5]\n [ 6  7]\n [ 8  9]\n [10 11]\n [12 13]\n [14 15]\n [16 17]\n [18 19]]\n"
    }
   ],
   "source": [
    "x = np.arange(0, 20)\n",
    "inspect(x)\n",
    "y = x.reshape((10, 2))\n",
    "# y = np.reshape(x, (10, 2))\n",
    "print('\\n')\n",
    "inspect(y)"
   ]
  },
  {
   "cell_type": "markdown",
   "execution_count": null,
   "metadata": {},
   "outputs": [],
   "source": [
    "### 6) Convert a 1D array to a 2D array with 2 rows"
   ]
  },
  {
   "cell_type": "code",
   "execution_count": 8,
   "metadata": {},
   "outputs": [
    {
     "name": "stdout",
     "output_type": "stream",
     "text": "Shape : (20,)\nDimensions : 1\nSize: 20\nContent : \n[ 0  1  2  3  4  5  6  7  8  9 10 11 12 13 14 15 16 17 18 19]\n\n\nShape : (2, 10)\nDimensions : 2\nSize: 20\nContent : \n[[ 0  1  2  3  4  5  6  7  8  9]\n [10 11 12 13 14 15 16 17 18 19]]\n"
    }
   ],
   "source": [
    "x = np.arange(0, 20)\n",
    "inspect(x)\n",
    "y = x.reshape((2, int(x.size/2)))\n",
    "# y = np.reshape(x, (10, 2))\n",
    "# inspect(np.reshape(data, (2, -1)))\n",
    "print('\\n')\n",
    "inspect(y)\n"
   ]
  },
  {
   "cell_type": "markdown",
   "execution_count": null,
   "metadata": {},
   "outputs": [],
   "source": [
    "### 7) Given an array  a  = \\[1,2,3,4,5,6,7,8,9\\] , create  new array b from a such that b includes all odd numbers and 4 multiples. "
   ]
  },
  {
   "cell_type": "code",
   "execution_count": 9,
   "metadata": {},
   "outputs": [
    {
     "name": "stdout",
     "output_type": "stream",
     "text": "[1 3 4 5 7 8 9]\n"
    }
   ],
   "source": [
    "data = np.arange(1, 10)\n",
    "x = data[np.where(np.logical_or(\n",
    "    data % 2 != 0, \n",
    "    data % 4 == 0\n",
    "))]\n",
    "print(x)"
   ]
  },
  {
   "cell_type": "markdown",
   "execution_count": null,
   "metadata": {},
   "outputs": [],
   "source": [
    "### 8) Given array, check if there are any null values and print them out. "
   ]
  },
  {
   "cell_type": "code",
   "execution_count": 10,
   "metadata": {},
   "outputs": [
    {
     "name": "stdout",
     "output_type": "stream",
     "text": "Shape : (20,)\nDimensions : 1\nSize: 20\nContent : \n[False False False False False False False False False False False False\n False False False False False False False False]\n"
    }
   ],
   "source": [
    "x = np.arange(0, 20)\n",
    "inspect(np.isnan(x))"
   ]
  },
  {
   "cell_type": "markdown",
   "execution_count": null,
   "metadata": {},
   "outputs": [],
   "source": [
    "### 9) How to replace all missing values with 0 in a numpy array?"
   ]
  },
  {
   "cell_type": "code",
   "execution_count": 11,
   "metadata": {},
   "outputs": [
    {
     "name": "stdout",
     "output_type": "stream",
     "text": "Shape : (20,)\nDimensions : 1\nSize: 20\nContent : \n[ 0.  1.  2.  3.  4.  5.  6.  7.  8.  9. nan nan nan 13. 14. 15. 16. 17.\n 18. 19.]\n\n\nShape : (20,)\nDimensions : 1\nSize: 20\nContent : \n[ 0.  1.  2.  3.  4.  5.  6.  7.  8.  9.  0.  0.  0. 13. 14. 15. 16. 17.\n 18. 19.]\n"
    }
   ],
   "source": [
    "x = np.arange(0, 20, dtype = float)\n",
    "x[10] = np.nan\n",
    "x[11] = np.nan\n",
    "x[12] = np.nan\n",
    "inspect(x)\n",
    "x[np.where(np.isnan(x))] = 0\n",
    "print('\\n')\n",
    "inspect(x)"
   ]
  },
  {
   "cell_type": "markdown",
   "execution_count": null,
   "metadata": {},
   "outputs": [],
   "source": [
    "### 10) How to find the count of each unique number in a NumPy array?"
   ]
  },
  {
   "cell_type": "code",
   "execution_count": 12,
   "metadata": {},
   "outputs": [
    {
     "name": "stdout",
     "output_type": "stream",
     "text": "Shape : (6, 2)\nDimensions : 2\nSize: 12\nContent : \n[[1 3]\n [2 1]\n [3 3]\n [4 3]\n [5 2]\n [6 1]]\n"
    }
   ],
   "source": [
    "x = np.array([1, 2, 3, 4, 5, 6, 1, 3, 4, 1, 3, 5, 4])\n",
    "unique, counts = np.unique(x, return_counts = True)\n",
    "\n",
    "inspect(np.asarray((unique, counts)).T)"
   ]
  },
  {
   "cell_type": "markdown",
   "execution_count": null,
   "metadata": {},
   "outputs": [],
   "source": [
    "### 11) How to convert a numeric to a categorical (text) array?"
   ]
  },
  {
   "cell_type": "code",
   "execution_count": 13,
   "metadata": {},
   "outputs": [
    {
     "data": {
      "text/plain": "array(['1', '2', '3', '4', '5'], dtype='<U1')"
     },
     "execution_count": 13,
     "metadata": {},
     "output_type": "execute_result"
    }
   ],
   "source": [
    "x = np.array([10, 20, 30, 40, 50])\n",
    "x = x.astype('<U1')\n",
    "x"
   ]
  },
  {
   "cell_type": "markdown",
   "execution_count": null,
   "metadata": {},
   "outputs": [],
   "source": [
    "### 12) Write a program to print all numbers between 99 and 299 which are either divisible by 5 or 7. Exclude the elements which are divisible by both."
   ]
  },
  {
   "cell_type": "code",
   "execution_count": 14,
   "metadata": {},
   "outputs": [
    {
     "data": {
      "text/plain": "array([100, 110, 112, 115, 119, 120, 125, 126, 130, 133, 135, 145, 147,\n       150, 154, 155, 160, 161, 165, 168, 170, 180, 182, 185, 189, 190,\n       195, 196, 200, 203, 205, 215, 217, 220, 224, 225, 230, 231, 235,\n       238, 240, 250, 252, 255, 259, 260, 265, 266, 270, 273, 275, 285,\n       287, 290, 294, 295])"
     },
     "execution_count": 14,
     "metadata": {},
     "output_type": "execute_result"
    }
   ],
   "source": [
    "x = np.arange(99, 300)\n",
    "x[np.where(\n",
    "    np.logical_and(\n",
    "        np.logical_or(\n",
    "            (\n",
    "                x % 5 == 0\n",
    "            ), \n",
    "            (\n",
    "                x % 7 == 0\n",
    "            )\n",
    "        ), \n",
    "        np.logical_not(\n",
    "            np.logical_and(\n",
    "                (\n",
    "                    x % 5 == 0\n",
    "                ), \n",
    "                (\n",
    "                    x % 7 == 0\n",
    "                )\n",
    "            )\n",
    "        )\n",
    "    )\n",
    ")]"
   ]
  },
  {
   "cell_type": "markdown",
   "execution_count": null,
   "metadata": {},
   "outputs": [],
   "source": [
    "### 13) Write a program to reverse an array and print (Don’t use inbuilt reverse functions)"
   ]
  },
  {
   "cell_type": "code",
   "execution_count": 15,
   "metadata": {},
   "outputs": [
    {
     "name": "stdout",
     "output_type": "stream",
     "text": "Shape : (5,)\nDimensions : 1\nSize: 5\nContent : \n[50 40 30 20 10]\n"
    }
   ],
   "source": [
    "x = np.array([10, 20, 30, 40, 50])\n",
    "y = x[-1::-1]\n",
    "inspect(y)"
   ]
  }
 ]
}